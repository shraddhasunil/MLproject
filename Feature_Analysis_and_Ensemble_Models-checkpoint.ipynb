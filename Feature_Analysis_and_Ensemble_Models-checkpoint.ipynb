{
 "cells": [
  {
   "cell_type": "code",
   "execution_count": 1,
   "metadata": {},
   "outputs": [
    {
     "name": "stderr",
     "output_type": "stream",
     "text": [
      "C:\\Users\\sunil\\Anaconda3\\envs\\tensorflow\\Lib\\site-packages\\sklearn\\cross_validation.py:41: DeprecationWarning: This module was deprecated in version 0.18 in favor of the model_selection module into which all the refactored classes and functions are moved. Also note that the interface of the new CV iterators are different from that of this module. This module will be removed in 0.20.\n",
      "  \"This module will be removed in 0.20.\", DeprecationWarning)\n"
     ]
    },
    {
     "data": {
      "text/html": [
       "<script>requirejs.config({paths: { 'plotly': ['https://cdn.plot.ly/plotly-latest.min']},});if(!window.Plotly) {{require(['plotly'],function(plotly) {window.Plotly=plotly;});}}</script>"
      ],
      "text/vnd.plotly.v1+html": [
       "<script>requirejs.config({paths: { 'plotly': ['https://cdn.plot.ly/plotly-latest.min']},});if(!window.Plotly) {{require(['plotly'],function(plotly) {window.Plotly=plotly;});}}</script>"
      ]
     },
     "metadata": {},
     "output_type": "display_data"
    }
   ],
   "source": [
    "# Load in our libraries\n",
    "import pandas as pd\n",
    "import numpy as np\n",
    "import re\n",
    "import sklearn\n",
    "import xgboost as xgb\n",
    "import seaborn as sns\n",
    "import matplotlib.pyplot as plt\n",
    "%matplotlib inline\n",
    "\n",
    "import plotly.offline as py\n",
    "py.init_notebook_mode(connected=True)\n",
    "import plotly.graph_objs as go\n",
    "import plotly.tools as tls\n",
    "\n",
    "import warnings\n",
    "warnings.filterwarnings('ignore')\n",
    "\n",
    "# Going to use these 5 base models for the stacking\n",
    "from sklearn.ensemble import RandomForestClassifier, AdaBoostClassifier, GradientBoostingClassifier, ExtraTreesClassifier\n",
    "from sklearn.svm import SVC\n",
    "from sklearn.model_selection import KFold \n",
    "pal = sns.color_palette()"
   ]
  },
  {
   "cell_type": "code",
   "execution_count": 2,
   "metadata": {
    "scrolled": true
   },
   "outputs": [
    {
     "data": {
      "text/html": [
       "<div>\n",
       "<style scoped>\n",
       "    .dataframe tbody tr th:only-of-type {\n",
       "        vertical-align: middle;\n",
       "    }\n",
       "\n",
       "    .dataframe tbody tr th {\n",
       "        vertical-align: top;\n",
       "    }\n",
       "\n",
       "    .dataframe thead th {\n",
       "        text-align: right;\n",
       "    }\n",
       "</style>\n",
       "<table border=\"1\" class=\"dataframe\">\n",
       "  <thead>\n",
       "    <tr style=\"text-align: right;\">\n",
       "      <th></th>\n",
       "      <th>id</th>\n",
       "      <th>qid1</th>\n",
       "      <th>qid2</th>\n",
       "      <th>question1</th>\n",
       "      <th>question2</th>\n",
       "      <th>is_duplicate</th>\n",
       "    </tr>\n",
       "  </thead>\n",
       "  <tbody>\n",
       "    <tr>\n",
       "      <th>0</th>\n",
       "      <td>0</td>\n",
       "      <td>1</td>\n",
       "      <td>2</td>\n",
       "      <td>What is the step by step guide to invest in sh...</td>\n",
       "      <td>What is the step by step guide to invest in sh...</td>\n",
       "      <td>0</td>\n",
       "    </tr>\n",
       "    <tr>\n",
       "      <th>1</th>\n",
       "      <td>1</td>\n",
       "      <td>3</td>\n",
       "      <td>4</td>\n",
       "      <td>What is the story of Kohinoor (Koh-i-Noor) Dia...</td>\n",
       "      <td>What would happen if the Indian government sto...</td>\n",
       "      <td>0</td>\n",
       "    </tr>\n",
       "    <tr>\n",
       "      <th>2</th>\n",
       "      <td>2</td>\n",
       "      <td>5</td>\n",
       "      <td>6</td>\n",
       "      <td>How can I increase the speed of my internet co...</td>\n",
       "      <td>How can Internet speed be increased by hacking...</td>\n",
       "      <td>0</td>\n",
       "    </tr>\n",
       "  </tbody>\n",
       "</table>\n",
       "</div>"
      ],
      "text/plain": [
       "   id  qid1  qid2                                          question1  \\\n",
       "0   0     1     2  What is the step by step guide to invest in sh...   \n",
       "1   1     3     4  What is the story of Kohinoor (Koh-i-Noor) Dia...   \n",
       "2   2     5     6  How can I increase the speed of my internet co...   \n",
       "\n",
       "                                           question2  is_duplicate  \n",
       "0  What is the step by step guide to invest in sh...             0  \n",
       "1  What would happen if the Indian government sto...             0  \n",
       "2  How can Internet speed be increased by hacking...             0  "
      ]
     },
     "execution_count": 2,
     "metadata": {},
     "output_type": "execute_result"
    }
   ],
   "source": [
    "# Load in the train and test datasets\n",
    "train = pd.read_csv('C:\\\\Users\\\\sunil\\\\Documents\\\\train.csv')\n",
    "#test = pd.read_csv('inputs/test.csv')\n",
    "train.head(3)"
   ]
  },
  {
   "cell_type": "code",
   "execution_count": 3,
   "metadata": {},
   "outputs": [],
   "source": [
    "#test=test[:500000].copy()"
   ]
  },
  {
   "cell_type": "code",
   "execution_count": 4,
   "metadata": {},
   "outputs": [
    {
     "data": {
      "text/plain": [
       "Index(['id', 'qid1', 'qid2', 'question1', 'question2', 'is_duplicate'], dtype='object')"
      ]
     },
     "execution_count": 4,
     "metadata": {},
     "output_type": "execute_result"
    }
   ],
   "source": [
    "train.columns"
   ]
  },
  {
   "cell_type": "markdown",
   "metadata": {},
   "source": [
    "# Character and Word Counts"
   ]
  },
  {
   "cell_type": "code",
   "execution_count": 5,
   "metadata": {},
   "outputs": [],
   "source": [
    "#Feature Generation\n",
    "train['question1'] = train['question1'].astype(str)\n",
    "#test['question1'] = test['question1'].astype(str)\n",
    "train['question2'] = train['question2'].astype(str)\n",
    "#test['question2'] = test['question2'].astype(str)\n",
    "\n",
    "#Character Count as Feature\n",
    "def character_count(a,b):\n",
    "    return len(a), len(b)\n",
    "\n",
    "train['character_count_in_question1'],train['character_count_in_question2']= zip(*train.apply(lambda row: \n",
    "                                                                                                       character_count(row['question1'], row['question2']), axis=1))\n",
    "#test['character_count_in_question1'],test['character_count_in_question2']= zip(*test.apply(lambda row: \n",
    "#                                                                                                       character_count(row['question1'], row['question2']), axis=1))\n",
    "\n",
    "#word Count as Feature\n",
    "def word_count(a,b):\n",
    "    return len(a.split()), len(b.split())\n",
    "\n",
    "train['word_count_in_question1'],train['word_count_in_question2']= zip(*train.apply(lambda row: \n",
    "                                                                                                       word_count(row['question1'], row['question2']), axis=1))\n",
    "\n",
    "#test['word_count_in_question1'],test['word_count_in_question2']= zip(*test.apply(lambda row: \n",
    "#                                                                                                       word_count(row['question1'], row['question2']), axis=1))\n",
    "\n"
   ]
  },
  {
   "cell_type": "code",
   "execution_count": 6,
   "metadata": {},
   "outputs": [],
   "source": [
    "train['difference_in_word_count']=abs(train['word_count_in_question1']-train['word_count_in_question2'])\n",
    "train['difference_in_character_count']=abs(train['character_count_in_question1']-train['character_count_in_question2'])\n",
    "\n",
    "train['mean_word_count']=abs(train['word_count_in_question1']+train['word_count_in_question2'])/2.0\n",
    "train['mean_character_count']=abs(train['character_count_in_question1']+train['character_count_in_question2'])/2.0"
   ]
  },
  {
   "cell_type": "code",
   "execution_count": 7,
   "metadata": {},
   "outputs": [],
   "source": [
    "train_dup=train[train['is_duplicate']==1].copy()\n",
    "train_not_dup=train[train['is_duplicate']!=1].copy()"
   ]
  },
  {
   "cell_type": "markdown",
   "metadata": {},
   "source": [
    "# Difference in Word Count, Character Count - Duplicate vs Non -Duplicate"
   ]
  },
  {
   "cell_type": "code",
   "execution_count": 8,
   "metadata": {
    "scrolled": false
   },
   "outputs": [
    {
     "name": "stdout",
     "output_type": "stream",
     "text": [
      "mean-dups 2.42 std-dups 2.69 mean-not-dups 4.44 std-not-dups 5.60 max-dups 39.00 max-not-dups 223.00\n"
     ]
    },
    {
     "data": {
      "image/png": "[encoded data removed]",
      "text/plain": [
       "<matplotlib.figure.Figure at 0x1ae3c9d0a58>"
      ]
     },
     "metadata": {},
     "output_type": "display_data"
    }
   ],
   "source": [
    "dup_train = pd.Series(train_dup['difference_in_word_count'].tolist())\n",
    "dup_not_train = pd.Series(train_not_dup['difference_in_word_count'].tolist())\n",
    "\n",
    "plt.figure(figsize=(20, 10))\n",
    "plt.hist(dup_train, bins=50, range=[0, 50], color=pal[0], label='Duplicates')\n",
    "plt.hist(dup_not_train, bins=50, range=[0, 50], color=pal[4],  alpha=0.8, label='Non Duplicates')\n",
    "plt.title('Normalised histogram of word count difference in questions', fontsize=15)\n",
    "plt.legend()\n",
    "plt.xlabel('Number of words', fontsize=15)\n",
    "plt.ylabel('Number of Questions', fontsize=15)\n",
    "\n",
    "print('mean-dups {:.2f} std-dups {:.2f} mean-not-dups {:.2f} std-not-dups {:.2f} max-dups {:.2f} max-not-dups {:.2f}'.format(dup_train.mean(), \n",
    "                          dup_train.std(), dup_not_train.mean(), dup_not_train.std(), dup_train.max(), dup_not_train.max()))"
   ]
  },
  {
   "cell_type": "code",
   "execution_count": 9,
   "metadata": {
    "scrolled": false
   },
   "outputs": [
    {
     "name": "stdout",
     "output_type": "stream",
     "text": [
      "mean-dups 13.14 std-dups 14.38 mean-not-dups 24.26 std-not-dups 29.51 max-dups 196.00 max-not-dups 1080.00\n"
     ]
    },
    {
     "data": {
      "image/png": "[encoded data removed]",
      "text/plain": [
       "<matplotlib.figure.Figure at 0x1ae3c9d09b0>"
      ]
     },
     "metadata": {},
     "output_type": "display_data"
    }
   ],
   "source": [
    "dup_train = pd.Series(train_dup['difference_in_character_count'].tolist())\n",
    "dup_not_train = pd.Series(train_not_dup['difference_in_character_count'].tolist())\n",
    "\n",
    "plt.figure(figsize=(20, 10))\n",
    "plt.hist(dup_train, bins=50, range=[0, 50], color=pal[0], label='Duplicates')\n",
    "plt.hist(dup_not_train, bins=50, range=[0, 50], color=pal[4], alpha=0.8, label='Non Duplicates')\n",
    "plt.title('Normalised histogram of Character count difference in questions', fontsize=15)\n",
    "plt.legend()\n",
    "plt.xlabel('Number of Characters', fontsize=15)\n",
    "plt.ylabel('Number of Questions', fontsize=15)\n",
    "\n",
    "print('mean-dups {:.2f} std-dups {:.2f} mean-not-dups {:.2f} std-not-dups {:.2f} max-dups {:.2f} max-not-dups {:.2f}'.format(dup_train.mean(), \n",
    "                          dup_train.std(), dup_not_train.mean(), dup_not_train.std(), dup_train.max(), dup_not_train.max()))"
   ]
  },
  {
   "cell_type": "markdown",
   "metadata": {},
   "source": [
    "# Word Count , Character Count Duplicates vs Non-Duplicates"
   ]
  },
  {
   "cell_type": "code",
   "execution_count": 10,
   "metadata": {},
   "outputs": [
    {
     "name": "stdout",
     "output_type": "stream",
     "text": [
      "mean-dups 9.85 std-dups 3.75 mean-not-dups 11.77 std-not-dups 5.54 max-dups 62.00 max-not-dups 135.00\n"
     ]
    },
    {
     "data": {
      "image/png": "[encoded data removed]",
      "text/plain": [
       "<matplotlib.figure.Figure at 0x1ae38c43940>"
      ]
     },
     "metadata": {},
     "output_type": "display_data"
    }
   ],
   "source": [
    "dup_train = pd.Series(train_dup['mean_word_count'].tolist())\n",
    "dup_not_train = pd.Series(train_not_dup['mean_word_count'].tolist())\n",
    "\n",
    "plt.figure(figsize=(20, 10))\n",
    "plt.hist(dup_train, bins=50, range=[0, 50], color=pal[0], normed=True, label='Duplicates')\n",
    "plt.hist(dup_not_train, bins=50, range=[0, 50], color=pal[4], normed=True, alpha=0.8, label='Non Duplicates')\n",
    "plt.title('Normalised histogram of mean word count in questions', fontsize=15)\n",
    "plt.legend()\n",
    "plt.xlabel('Number of words', fontsize=15)\n",
    "plt.ylabel('Probability', fontsize=15)\n",
    "\n",
    "print('mean-dups {:.2f} std-dups {:.2f} mean-not-dups {:.2f} std-not-dups {:.2f} max-dups {:.2f} max-not-dups {:.2f}'.format(dup_train.mean(), \n",
    "                          dup_train.std(), dup_not_train.mean(), dup_not_train.std(), dup_train.max(), dup_not_train.max()))"
   ]
  },
  {
   "cell_type": "code",
   "execution_count": 11,
   "metadata": {},
   "outputs": [
    {
     "name": "stdout",
     "output_type": "stream",
     "text": [
      "mean-dups 52.89 std-dups 21.16 mean-not-dups 63.88 std-not-dups 29.88 max-dups 332.00 max-not-dups 659.00\n"
     ]
    },
    {
     "data": {
      "image/png": "[encoded data removed]",
      "text/plain": [
       "<matplotlib.figure.Figure at 0x1ae30459048>"
      ]
     },
     "metadata": {},
     "output_type": "display_data"
    }
   ],
   "source": [
    "dup_train = pd.Series(train_dup['mean_character_count'].tolist())\n",
    "dup_not_train = pd.Series(train_not_dup['mean_character_count'].tolist())\n",
    "\n",
    "plt.figure(figsize=(20, 10))\n",
    "plt.hist(dup_train, bins=50, range=[0, 50], color=pal[0], normed=True, label='Duplicates')\n",
    "plt.hist(dup_not_train, bins=50, range=[0, 50], color=pal[4], normed=True, alpha=0.8, label='Non Duplicates')\n",
    "plt.title('Normalised histogram of mean Character count in questions', fontsize=15)\n",
    "plt.legend()\n",
    "plt.xlabel('Number of words', fontsize=15)\n",
    "plt.ylabel('Probability', fontsize=15)\n",
    "\n",
    "print('mean-dups {:.2f} std-dups {:.2f} mean-not-dups {:.2f} std-not-dups {:.2f} max-dups {:.2f} max-not-dups {:.2f}'.format(dup_train.mean(), \n",
    "                          dup_train.std(), dup_not_train.mean(), dup_not_train.std(), dup_train.max(), dup_not_train.max()))"
   ]
  },
  {
   "cell_type": "markdown",
   "metadata": {},
   "source": [
    "# Question Repetition"
   ]
  },
  {
   "cell_type": "code",
   "execution_count": 12,
   "metadata": {},
   "outputs": [],
   "source": [
    "#Number of Repetition has feature\n",
    "df1=train['qid1']\n",
    "df2=train['qid2']\n",
    "df_=df1.append(df2)\n",
    "a = np.array(df_)\n",
    "unique, counts = np.unique(a, return_counts=True)\n",
    "question_counts=dict(zip(unique, counts))\n",
    "\n",
    "def find_duplication(a,b):\n",
    "    counta,countb=question_counts[a],question_counts[b]\n",
    "    return int(counta>1),int(countb>1),counta,countb\n",
    "\n",
    "train['qid1_repeats'],train['qid2_repeats'],train['qid1_repeats_count'],train['qid2_repeats_count']= \\\n",
    "                                zip(*train.apply(lambda row: find_duplication(row['qid1'], row['qid2']), axis=1))\n",
    "\n",
    "#train.head()"
   ]
  },
  {
   "cell_type": "code",
   "execution_count": 13,
   "metadata": {},
   "outputs": [
    {
     "data": {
      "text/plain": [
       "<matplotlib.axes._subplots.AxesSubplot at 0x1ae3c9d8fd0>"
      ]
     },
     "execution_count": 13,
     "metadata": {},
     "output_type": "execute_result"
    },
    {
     "data": {
      "image/png": "[encoded data removed]",
      "text/plain": [
       "<matplotlib.figure.Figure at 0x1ae3c9d8c88>"
      ]
     },
     "metadata": {},
     "output_type": "display_data"
    }
   ],
   "source": [
    "colormap = plt.cm.viridis\n",
    "plt.figure(figsize=(14,12))\n",
    "plt.title('Pearson Correlation of Question Repetition against label', y=1.05, size=15)\n",
    "sns.heatmap(train[['qid1_repeats','qid2_repeats','qid1_repeats_count','qid2_repeats_count','is_duplicate']].astype(float).corr(),linewidths=0.1,\n",
    "            vmax=1.0, square=True, cmap=colormap, linecolor='white',\n",
    "            annot=True)"
   ]
  },
  {
   "cell_type": "markdown",
   "metadata": {},
   "source": [
    "# Word vector features"
   ]
  },
  {
   "cell_type": "markdown",
   "metadata": {},
   "source": [
    "# Average of Word vectors"
   ]
  },
  {
   "cell_type": "code",
   "execution_count": 14,
   "metadata": {},
   "outputs": [],
   "source": [
    "import gensim"
   ]
  },
  {
   "cell_type": "code",
   "execution_count": 15,
   "metadata": {},
   "outputs": [],
   "source": [
    "\n",
    "def makeFeatureVec(words, num_features):\n",
    "    featureVec = np.zeros((num_features,),dtype=\"float32\")\n",
    "    nwords = 0\n",
    "    for word in words:\n",
    "        if word in model.wv.vocab: \n",
    "            nwords = nwords + 1\n",
    "            featureVec = np.add(featureVec,model[word])\n",
    "    featureVec = np.divide(featureVec,nwords)\n",
    "    return featureVec\n",
    "\n",
    "\n",
    "def getAvgFeatureVecs(reviews, num_features):\n",
    "    counter = 0\n",
    "    reviewFeatureVecs = np.zeros((len(reviews),num_features),dtype=\"float32\")\n",
    "    for review in reviews:\n",
    "        if counter%1000 == 0:\n",
    "             print(\"Review {} of {}\".format(counter, len(reviews)))\n",
    "        reviewFeatureVecs[counter] = makeFeatureVec(review, num_features)\n",
    "        counter = counter + 1\n",
    "    return reviewFeatureVecs"
   ]
  },
  {
   "cell_type": "code",
   "execution_count": 16,
   "metadata": {},
   "outputs": [],
   "source": [
    "# Import various modules for string cleaning\n",
    "import re\n",
    "from nltk.corpus import stopwords\n",
    "\n",
    "def review_to_wordlist( review_text, remove_stopwords=False ):\n",
    "    review_text = re.sub(\"[^a-zA-Z]\",\" \", review_text)\n",
    "    words = review_text.lower().split()\n",
    "    if remove_stopwords:\n",
    "        stops = set(stopwords.words(\"english\"))\n",
    "        words = [w for w in words if not w in stops]\n",
    "    return(words)"
   ]
  },
  {
   "cell_type": "code",
   "execution_count": 17,
   "metadata": {},
   "outputs": [
    {
     "ename": "FileNotFoundError",
     "evalue": "[Errno 2] No such file or directory: 'wordvectors/GoogleNews-vectors-negative300.bin'",
     "output_type": "error",
     "traceback": [
      "\u001b[1;31m---------------------------------------------------------------------------\u001b[0m",
      "\u001b[1;31mFileNotFoundError\u001b[0m                         Traceback (most recent call last)",
      "\u001b[1;32m<ipython-input-17-ef2d770ac613>\u001b[0m in \u001b[0;36m<module>\u001b[1;34m()\u001b[0m\n\u001b[1;32m----> 1\u001b[1;33m \u001b[0mmodel\u001b[0m \u001b[1;33m=\u001b[0m \u001b[0mgensim\u001b[0m\u001b[1;33m.\u001b[0m\u001b[0mmodels\u001b[0m\u001b[1;33m.\u001b[0m\u001b[0mKeyedVectors\u001b[0m\u001b[1;33m.\u001b[0m\u001b[0mload_word2vec_format\u001b[0m\u001b[1;33m(\u001b[0m\u001b[1;34m'wordvectors/GoogleNews-vectors-negative300.bin'\u001b[0m\u001b[1;33m,\u001b[0m \u001b[0mbinary\u001b[0m\u001b[1;33m=\u001b[0m\u001b[1;32mTrue\u001b[0m\u001b[1;33m)\u001b[0m\u001b[1;33m\u001b[0m\u001b[0m\n\u001b[0m",
      "\u001b[1;32m~\\Anaconda3\\envs\\tensorflow\\Lib\\site-packages\\gensim\\models\\keyedvectors.py\u001b[0m in \u001b[0;36mload_word2vec_format\u001b[1;34m(cls, fname, fvocab, binary, encoding, unicode_errors, limit, datatype)\u001b[0m\n\u001b[0;32m    200\u001b[0m \u001b[1;33m\u001b[0m\u001b[0m\n\u001b[0;32m    201\u001b[0m         \u001b[0mlogger\u001b[0m\u001b[1;33m.\u001b[0m\u001b[0minfo\u001b[0m\u001b[1;33m(\u001b[0m\u001b[1;34m\"loading projection weights from %s\"\u001b[0m\u001b[1;33m,\u001b[0m \u001b[0mfname\u001b[0m\u001b[1;33m)\u001b[0m\u001b[1;33m\u001b[0m\u001b[0m\n\u001b[1;32m--> 202\u001b[1;33m         \u001b[1;32mwith\u001b[0m \u001b[0mutils\u001b[0m\u001b[1;33m.\u001b[0m\u001b[0msmart_open\u001b[0m\u001b[1;33m(\u001b[0m\u001b[0mfname\u001b[0m\u001b[1;33m)\u001b[0m \u001b[1;32mas\u001b[0m \u001b[0mfin\u001b[0m\u001b[1;33m:\u001b[0m\u001b[1;33m\u001b[0m\u001b[0m\n\u001b[0m\u001b[0;32m    203\u001b[0m             \u001b[0mheader\u001b[0m \u001b[1;33m=\u001b[0m \u001b[0mutils\u001b[0m\u001b[1;33m.\u001b[0m\u001b[0mto_unicode\u001b[0m\u001b[1;33m(\u001b[0m\u001b[0mfin\u001b[0m\u001b[1;33m.\u001b[0m\u001b[0mreadline\u001b[0m\u001b[1;33m(\u001b[0m\u001b[1;33m)\u001b[0m\u001b[1;33m,\u001b[0m \u001b[0mencoding\u001b[0m\u001b[1;33m=\u001b[0m\u001b[0mencoding\u001b[0m\u001b[1;33m)\u001b[0m\u001b[1;33m\u001b[0m\u001b[0m\n\u001b[0;32m    204\u001b[0m             \u001b[0mvocab_size\u001b[0m\u001b[1;33m,\u001b[0m \u001b[0mvector_size\u001b[0m \u001b[1;33m=\u001b[0m \u001b[1;33m(\u001b[0m\u001b[0mint\u001b[0m\u001b[1;33m(\u001b[0m\u001b[0mx\u001b[0m\u001b[1;33m)\u001b[0m \u001b[1;32mfor\u001b[0m \u001b[0mx\u001b[0m \u001b[1;32min\u001b[0m \u001b[0mheader\u001b[0m\u001b[1;33m.\u001b[0m\u001b[0msplit\u001b[0m\u001b[1;33m(\u001b[0m\u001b[1;33m)\u001b[0m\u001b[1;33m)\u001b[0m  \u001b[1;31m# throws for invalid file format\u001b[0m\u001b[1;33m\u001b[0m\u001b[0m\n",
      "\u001b[1;32m~\\Anaconda3\\envs\\tensorflow\\Lib\\site-packages\\smart_open\\smart_open_lib.py\u001b[0m in \u001b[0;36msmart_open\u001b[1;34m(uri, mode, **kw)\u001b[0m\n\u001b[0;32m    138\u001b[0m             \u001b[1;31m# local files -- both read & write supported\u001b[0m\u001b[1;33m\u001b[0m\u001b[1;33m\u001b[0m\u001b[0m\n\u001b[0;32m    139\u001b[0m             \u001b[1;31m# compression, if any, is determined by the filename extension (.gz, .bz2)\u001b[0m\u001b[1;33m\u001b[0m\u001b[1;33m\u001b[0m\u001b[0m\n\u001b[1;32m--> 140\u001b[1;33m             \u001b[1;32mreturn\u001b[0m \u001b[0mfile_smart_open\u001b[0m\u001b[1;33m(\u001b[0m\u001b[0mparsed_uri\u001b[0m\u001b[1;33m.\u001b[0m\u001b[0muri_path\u001b[0m\u001b[1;33m,\u001b[0m \u001b[0mmode\u001b[0m\u001b[1;33m)\u001b[0m\u001b[1;33m\u001b[0m\u001b[0m\n\u001b[0m\u001b[0;32m    141\u001b[0m         \u001b[1;32melif\u001b[0m \u001b[0mparsed_uri\u001b[0m\u001b[1;33m.\u001b[0m\u001b[0mscheme\u001b[0m \u001b[1;32min\u001b[0m \u001b[1;33m(\u001b[0m\u001b[1;34m\"s3\"\u001b[0m\u001b[1;33m,\u001b[0m \u001b[1;34m\"s3n\"\u001b[0m\u001b[1;33m,\u001b[0m \u001b[1;34m\"s3u\"\u001b[0m\u001b[1;33m)\u001b[0m\u001b[1;33m:\u001b[0m\u001b[1;33m\u001b[0m\u001b[0m\n\u001b[0;32m    142\u001b[0m             \u001b[0mkwargs\u001b[0m \u001b[1;33m=\u001b[0m \u001b[1;33m{\u001b[0m\u001b[1;33m}\u001b[0m\u001b[1;33m\u001b[0m\u001b[0m\n",
      "\u001b[1;32m~\\Anaconda3\\envs\\tensorflow\\Lib\\site-packages\\smart_open\\smart_open_lib.py\u001b[0m in \u001b[0;36mfile_smart_open\u001b[1;34m(fname, mode)\u001b[0m\n\u001b[0;32m    642\u001b[0m \u001b[1;33m\u001b[0m\u001b[0m\n\u001b[0;32m    643\u001b[0m     \"\"\"\n\u001b[1;32m--> 644\u001b[1;33m     \u001b[1;32mreturn\u001b[0m \u001b[0mcompression_wrapper\u001b[0m\u001b[1;33m(\u001b[0m\u001b[0mopen\u001b[0m\u001b[1;33m(\u001b[0m\u001b[0mfname\u001b[0m\u001b[1;33m,\u001b[0m \u001b[0mmode\u001b[0m\u001b[1;33m)\u001b[0m\u001b[1;33m,\u001b[0m \u001b[0mfname\u001b[0m\u001b[1;33m,\u001b[0m \u001b[0mmode\u001b[0m\u001b[1;33m)\u001b[0m\u001b[1;33m\u001b[0m\u001b[0m\n\u001b[0m\u001b[0;32m    645\u001b[0m \u001b[1;33m\u001b[0m\u001b[0m\n\u001b[0;32m    646\u001b[0m \u001b[1;33m\u001b[0m\u001b[0m\n",
      "\u001b[1;31mFileNotFoundError\u001b[0m: [Errno 2] No such file or directory: 'wordvectors/GoogleNews-vectors-negative300.bin'"
     ]
    }
   ],
   "source": [
    "model = gensim.models.KeyedVectors.load_word2vec_format('wordvectors/GoogleNews-vectors-negative300.bin', binary=True)  "
   ]
  },
  {
   "cell_type": "code",
   "execution_count": null,
   "metadata": {
    "scrolled": false
   },
   "outputs": [],
   "source": [
    "# ****************************************************************\n",
    "# Calculate average feature vectors for training and testing sets,\n",
    "# using the functions we defined above. Notice that we now use stop word\n",
    "# removal.\n",
    "num_features=300\n",
    "\n",
    "clean_question1= []\n",
    "for question in train[\"question1\"]:\n",
    "    clean_question1.append( review_to_wordlist( question, remove_stopwords=True ))\n",
    "len(clean_question1)"
   ]
  },
  {
   "cell_type": "code",
   "execution_count": null,
   "metadata": {},
   "outputs": [],
   "source": [
    "clean_question2 = []\n",
    "for question in train[\"question2\"]:\n",
    "    clean_question2.append( review_to_wordlist(question,remove_stopwords=True ))\n",
    "print('clean_question2',len(clean_question2))"
   ]
  },
  {
   "cell_type": "code",
   "execution_count": null,
   "metadata": {},
   "outputs": [],
   "source": [
    "print('clean_question1',len(clean_question1))\n",
    "question1_DataVecs = getAvgFeatureVecs( clean_question1, num_features )\n",
    "print('question1_DataVecs',len(question1_DataVecs))\n",
    "\n",
    "print('clean_question2',len(clean_question2))\n",
    "question2_DataVecs = getAvgFeatureVecs( clean_question2, num_features )\n",
    "print('question2_DataVecs',len(question2_DataVecs))"
   ]
  },
  {
   "cell_type": "markdown",
   "metadata": {},
   "source": [
    "# Similarity between Averaged Sentence Vectors"
   ]
  },
  {
   "cell_type": "code",
   "execution_count": null,
   "metadata": {},
   "outputs": [],
   "source": [
    "# Cosine Distance\n",
    "import scipy\n",
    "\n",
    "cosine_distance=np.zeros((question1_DataVecs.shape[0],1),dtype=np.float32)\n",
    "i=0\n",
    "for x,y in zip(question1_DataVecs,question2_DataVecs):\n",
    "    cosine_distance[i] = scipy.spatial.distance.cosine(x, y)\n",
    "    i+=1\n",
    "\n",
    "#Euclidean distance\n",
    "euclidean_distance=np.sqrt(np.sum(np.square(question1_DataVecs-question2_DataVecs),axis=1))\n",
    "\n",
    "#Manhattan Distance\n",
    "manhattan_distance=np.sum(np.abs(question1_DataVecs-question2_DataVecs),axis=1)"
   ]
  },
  {
   "cell_type": "code",
   "execution_count": null,
   "metadata": {},
   "outputs": [],
   "source": [
    "cosine_distance=cosine_distance.reshape((-1,))\n",
    "euclidean_distance=euclidean_distance.reshape((-1,))\n",
    "manhattan_distance=manhattan_distance.reshape((-1,))"
   ]
  },
  {
   "cell_type": "code",
   "execution_count": null,
   "metadata": {},
   "outputs": [],
   "source": [
    "label_duplicate=train['is_duplicate'].ravel()"
   ]
  },
  {
   "cell_type": "code",
   "execution_count": null,
   "metadata": {},
   "outputs": [],
   "source": [
    "df_dist= pd.DataFrame({'cosine_distance':cosine_distance,'euclidean_distance':euclidean_distance,'manhattan_distance':manhattan_distance,'label':label_duplicate})"
   ]
  },
  {
   "cell_type": "code",
   "execution_count": null,
   "metadata": {},
   "outputs": [],
   "source": [
    "colormap = plt.cm.viridis\n",
    "plt.figure(figsize=(14,12))\n",
    "plt.title('Pearson Correlation of Features', y=1.05, size=15)\n",
    "sns.heatmap(df_dist.astype(float).corr(),linewidths=0.1,\n",
    "            vmax=1.0, square=True, cmap=colormap, linecolor='white',\n",
    "            annot=True)"
   ]
  },
  {
   "cell_type": "markdown",
   "metadata": {},
   "source": [
    "# TFIDF Averaging of Word Vectors"
   ]
  },
  {
   "cell_type": "code",
   "execution_count": null,
   "metadata": {},
   "outputs": [],
   "source": [
    "from six.moves import cPickle"
   ]
  },
  {
   "cell_type": "code",
   "execution_count": null,
   "metadata": {},
   "outputs": [],
   "source": [
    "f = open('ms_saved_models/tfidf_vectorizer.save', 'rb')\n",
    "tfidf=cPickle.load(f)\n",
    "f.close()"
   ]
  },
  {
   "cell_type": "code",
   "execution_count": null,
   "metadata": {},
   "outputs": [],
   "source": [
    "max_idf = max(tfidf.idf_)"
   ]
  },
  {
   "cell_type": "code",
   "execution_count": null,
   "metadata": {},
   "outputs": [],
   "source": [
    "word2weight = {}\n",
    "for w, i in tfidf.vocabulary_.items():\n",
    "    word2weight[w]=tfidf.idf_[i] "
   ]
  },
  {
   "cell_type": "code",
   "execution_count": null,
   "metadata": {},
   "outputs": [],
   "source": [
    "def makeFeatureVec_tfidf(words, num_features):\n",
    "    featureVec = np.zeros((num_features,),dtype=\"float32\")\n",
    "    nwords = 0\n",
    "    for word in words:\n",
    "        if word in model.wv.vocab: \n",
    "            nwords = nwords + 1\n",
    "            if word in word2weight.keys():\n",
    "                featureVec = np.add(featureVec,model[word]*word2weight[word])\n",
    "            else:\n",
    "                featureVec = np.add(featureVec,model[word]*max_idf)\n",
    "    featureVec = np.divide(featureVec,nwords)\n",
    "    return featureVec\n",
    "\n",
    "\n",
    "def getAvgFeatureVecs_tfidf(reviews, num_features):\n",
    "    counter = 0\n",
    "    reviewFeatureVecs = np.zeros((len(reviews),num_features),dtype=\"float32\")\n",
    "    for review in reviews:\n",
    "        if counter%10000 == 0:\n",
    "             print(\"Review {} of {}\".format(counter, len(reviews)))\n",
    "        reviewFeatureVecs[counter] = makeFeatureVec_tfidf(review, num_features)\n",
    "        counter = counter + 1\n",
    "    return reviewFeatureVecs"
   ]
  },
  {
   "cell_type": "code",
   "execution_count": null,
   "metadata": {},
   "outputs": [],
   "source": [
    "print('clean_question1',len(clean_question1))\n",
    "question1_DataVecs_tfidf = getAvgFeatureVecs_tfidf( clean_question1, num_features )\n",
    "print('question1_DataVecs',len(question1_DataVecs))\n",
    "\n",
    "print('clean_question2',len(clean_question2))\n",
    "question2_DataVecs_tfidf = getAvgFeatureVecs_tfidf( clean_question2, num_features )\n",
    "print('question2_DataVecs',len(question2_DataVecs))"
   ]
  },
  {
   "cell_type": "markdown",
   "metadata": {},
   "source": [
    "# Similarity of TFIDF Averaged Vectors"
   ]
  },
  {
   "cell_type": "code",
   "execution_count": null,
   "metadata": {},
   "outputs": [],
   "source": [
    "cosine_distance_tfidf=np.zeros((question1_DataVecs_tfidf.shape[0],1),dtype=np.float32)\n",
    "i=0\n",
    "for x,y in zip(question1_DataVecs_tfidf,question2_DataVecs_tfidf):\n",
    "    cosine_distance_tfidf[i] = scipy.spatial.distance.cosine(x, y)\n",
    "    i+=1\n",
    "\n",
    "#Euclidean distance\n",
    "euclidean_distance_tfidf=np.sqrt(np.sum(np.square(question1_DataVecs_tfidf-question2_DataVecs_tfidf),axis=1))\n",
    "\n",
    "#Manhattan Distance\n",
    "manhattan_distance_tfidf=np.sum(np.abs(question1_DataVecs_tfidf-question2_DataVecs_tfidf),axis=1)\n",
    "\n",
    "cosine_distance_tfidf=cosine_distance_tfidf.reshape((-1,))\n",
    "euclidean_distance_tfidf=euclidean_distance_tfidf.reshape((-1,))\n",
    "manhattan_distance_tfidf=manhattan_distance_tfidf.reshape((-1,))"
   ]
  },
  {
   "cell_type": "code",
   "execution_count": null,
   "metadata": {},
   "outputs": [],
   "source": [
    "df_dist_tfidf= pd.DataFrame({'cosine_distance_tfidf':cosine_distance_tfidf,'euclidean_distance_tfidf':euclidean_distance_tfidf,\\\n",
    "                       'manhattan_distance_tfidf':manhattan_distance_tfidf,\\\n",
    "                       'label':label_duplicate})"
   ]
  },
  {
   "cell_type": "code",
   "execution_count": null,
   "metadata": {},
   "outputs": [],
   "source": [
    "colormap = plt.cm.viridis\n",
    "plt.figure(figsize=(14,12))\n",
    "plt.title('Pearson Correlation of Features', y=1.05, size=15)\n",
    "sns.heatmap(df_dist_tfidf.astype(float).corr(),linewidths=0.1,\n",
    "            vmax=1.0, square=True, cmap=colormap, linecolor='white',\n",
    "            annot=True)"
   ]
  },
  {
   "cell_type": "markdown",
   "metadata": {},
   "source": [
    "# When, What,How, Where,which, who,why"
   ]
  },
  {
   "cell_type": "code",
   "execution_count": null,
   "metadata": {},
   "outputs": [],
   "source": [
    "train['question1_lower']=train.apply(lambda row: row['question1'].lower(),axis=1)\n",
    "train['question2_lower']=train.apply(lambda row: row['question2'].lower(),axis=1)"
   ]
  },
  {
   "cell_type": "code",
   "execution_count": null,
   "metadata": {},
   "outputs": [],
   "source": [
    "def find_question_words(a,b):\n",
    "    bool_where_a=bool(re.search('where',a))\n",
    "    bool_why_a=bool(re.search('why',a))\n",
    "    bool_who_a=bool(re.search('who',a))\n",
    "    bool_what_a=bool(re.search('what',a))\n",
    "    bool_which_a=bool(re.search('which',a))\n",
    "    bool_when_a=bool(re.search('when',a))\n",
    "    bool_how_a=bool(re.search('how',a))\n",
    "    \n",
    "    bool_where_b=bool(re.search('where',b))\n",
    "    bool_why_b=bool(re.search('why',b))\n",
    "    bool_who_b=bool(re.search('who',b))\n",
    "    bool_what_b=bool(re.search('what',b))\n",
    "    bool_which_b=bool(re.search('which',b))\n",
    "    bool_when_b=bool(re.search('when',b))\n",
    "    bool_how_b=bool(re.search('how',b))\n",
    "    \n",
    "    question_same= (bool_where_a and bool_where_b) or (bool_why_a and bool_why_b) or (bool_who_a and bool_who_b)\\\n",
    "    or (bool_what_a and bool_what_b) or (bool_which_a and bool_which_b) or (bool_when_a and bool_when_b) \\\n",
    "    or (bool_how_a and bool_how_b)\n",
    "    \n",
    "    return int(question_same)"
   ]
  },
  {
   "cell_type": "code",
   "execution_count": null,
   "metadata": {},
   "outputs": [],
   "source": [
    "'''train['bool_where_a'],train['bool_why_a'],train['bool_who_a'],train['bool_what_a'],train['bool_which_a']\\\n",
    ",train['bool_when_a'],train['bool_how_a'],train['bool_where_b'],train['bool_why_b'],train['bool_who_b']\n",
    ",train['bool_what_b'],train['bool_which_b'],train['bool_when_b'],train['bool_how_b']\n",
    "= zip(*train.apply(lambda row: find_question_words(row['question1_lower'], row['question2_lower']), axis=1))'''\n",
    "\n",
    "\n",
    "train['same_question_type']= train.apply(lambda row: find_question_words(row['question1_lower'], row['question2_lower']), axis=1)"
   ]
  },
  {
   "cell_type": "code",
   "execution_count": null,
   "metadata": {},
   "outputs": [],
   "source": [
    "colormap = plt.cm.viridis\n",
    "plt.figure(figsize=(14,12))\n",
    "plt.title('Pearson Correlation of Features', y=1.05, size=15)\n",
    "sns.heatmap(train[['same_question_type','is_duplicate']].astype(float).corr(),linewidths=0.1,\n",
    "            vmax=1.0, square=True, cmap=colormap, linecolor='white',\n",
    "            annot=True)"
   ]
  },
  {
   "cell_type": "code",
   "execution_count": null,
   "metadata": {},
   "outputs": [],
   "source": [
    "#train.drop(['bool_where_a','bool_why_a','bool_who_a','bool_what_a','bool_which_a','bool_when_a','bool_how_a'\n",
    "#,'bool_where_b','bool_why_b','bool_who_b','bool_what_b','bool_which_b','bool_when_b','bool_how_b'],inplace=True)"
   ]
  },
  {
   "cell_type": "markdown",
   "metadata": {},
   "source": [
    "# Number of Common Words"
   ]
  },
  {
   "cell_type": "code",
   "execution_count": null,
   "metadata": {},
   "outputs": [],
   "source": [
    "common_words_count=[]\n",
    "for list1,list2 in zip(clean_question1,clean_question2):\n",
    "    common_words_count.append(len(set(list1).intersection(list2)))\n",
    "    \n",
    "common_words_count=pd.Series(data=common_words_count)\n",
    "train['common_words_count']=common_words_count\n",
    "train_dup=train[train['is_duplicate']==1].copy()\n",
    "train_not_dup=train[train['is_duplicate']!=1].copy()\n",
    "\n",
    "dup_train = pd.Series(train_dup['common_words_count'].tolist())\n",
    "dup_not_train = pd.Series(train_not_dup['common_words_count'].tolist())\n",
    "\n",
    "plt.figure(figsize=(20, 10))\n",
    "plt.hist(dup_train, bins=20, range=[0, 20], color=pal[0], label='Duplicates')\n",
    "plt.hist(dup_not_train, bins=20, range=[0, 20], color=pal[4], alpha=0.8, label='Non Duplicates')\n",
    "plt.title('histogram of Common word count in questions', fontsize=15)\n",
    "plt.legend()\n",
    "plt.xlabel('Number of words', fontsize=15)\n",
    "plt.ylabel('Number of Question Pairs', fontsize=15)\n",
    "\n",
    "print('mean-dups {:.2f} std-dups {:.2f} mean-not-dups {:.2f} std-not-dups {:.2f} max-dups {:.2f} max-not-dups {:.2f}'.format(dup_train.mean(), \n",
    "                          dup_train.std(), dup_not_train.mean(), dup_not_train.std(), dup_train.max(), dup_not_train.max()))"
   ]
  },
  {
   "cell_type": "code",
   "execution_count": null,
   "metadata": {},
   "outputs": [],
   "source": [
    "colormap = plt.cm.viridis\n",
    "plt.figure(figsize=(14,12))\n",
    "plt.title('Pearson Correlation of Features', y=1.05, size=15)\n",
    "sns.heatmap(train[['common_words_count','is_duplicate']].astype(float).corr(),linewidths=0.1,\n",
    "            vmax=1.0, square=True, cmap=colormap, linecolor='white',\n",
    "            annot=True)"
   ]
  },
  {
   "cell_type": "code",
   "execution_count": null,
   "metadata": {},
   "outputs": [],
   "source": [
    "import pandas as pd\n",
    "train_data1 = pd.DataFrame(dtype='float64')\n",
    "train_data1['q1chrlen'] = train['question1'].str.len()\n",
    "train_data1['q2chrlen'] = train['question2'].str.len()\n",
    "train_data1['q1_nword'] = train['question1'].apply(lambda x: len(str(x).split(\" \")))\n",
    "train_data1['q2_nword'] = train['question2'].apply(lambda y: len(str(y).split(\" \")))\n",
    "#train_data1['word_share'] = train.apply(word_share_norm, axis=1)\n",
    "train_data1['TFIDF_share'] = train.apply(makeFeatureVec_tfidf, axis=1, raw=True)\n",
    "train_data1.head()\n",
    "\n",
    "from sklearn.model_selection import train_test_split\n",
    "label = train['is_duplicate']\n",
    "X_train, X_valid, y_train, y_valid = train_test_split(train_data1, label, test_size=0.2, random_state=10)\n",
    "X_train_scaled, X_valid_scaled, y_train, y_valid = train_test_split(train_data1, label, test_size=0.2, random_state=10)"
   ]
  },
  {
   "cell_type": "code",
   "execution_count": null,
   "metadata": {},
   "outputs": [],
   "source": [
    "rfc = RandomForestClassifier(max_depth=5, random_state=0)\n",
    "rfc.fit(X_train_scaled,y_train)\n",
    "prediction = rfc.predict_proba(X_valid_scaled)\n",
    "pre = rfc.predict(X_valid_scaled)\n",
    "score_rfc = rfc.score(X_valid_scaled, y_valid)\n",
    "print (\"Random Forest (Benchmark model) has accuracy:\",score_rfc)"
   ]
  },
  {
   "cell_type": "code",
   "execution_count": null,
   "metadata": {},
   "outputs": [],
   "source": []
  }
 ],
 "metadata": {
  "kernelspec": {
   "display_name": "Python 3",
   "language": "python",
   "name": "python3"
  },
  "language_info": {
   "codemirror_mode": {
    "name": "ipython",
    "version": 3
   },
   "file_extension": ".py",
   "mimetype": "text/x-python",
   "name": "python",
   "nbconvert_exporter": "python",
   "pygments_lexer": "ipython3",
   "version": "3.5.4"
  }
 },
 "nbformat": 4,
 "nbformat_minor": 2
}
